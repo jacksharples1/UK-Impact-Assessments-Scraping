{
 "cells": [
  {
   "cell_type": "code",
   "execution_count": 18,
   "metadata": {},
   "outputs": [],
   "source": [
    "import pandas as pd\n",
    "import numpy as np"
   ]
  },
  {
   "cell_type": "code",
   "execution_count": 19,
   "metadata": {},
   "outputs": [],
   "source": [
    "df = pd.read_csv('output/csv/output.csv')"
   ]
  },
  {
   "cell_type": "code",
   "execution_count": 20,
   "metadata": {},
   "outputs": [
    {
     "name": "stdout",
     "output_type": "stream",
     "text": [
      "<class 'pandas.core.frame.DataFrame'>\n",
      "RangeIndex: 4023 entries, 0 to 4022\n",
      "Data columns (total 6 columns):\n",
      " #   Column        Non-Null Count  Dtype \n",
      "---  ------        --------------  ----- \n",
      " 0   article name  4023 non-null   object\n",
      " 1   reference     4023 non-null   object\n",
      " 2   text          4015 non-null   object\n",
      " 3   method        4023 non-null   object\n",
      " 4   origin        4023 non-null   object\n",
      " 5   page number   4023 non-null   int64 \n",
      "dtypes: int64(1), object(5)\n",
      "memory usage: 188.7+ KB\n"
     ]
    }
   ],
   "source": [
    "df.info()"
   ]
  },
  {
   "cell_type": "code",
   "execution_count": 21,
   "metadata": {},
   "outputs": [],
   "source": [
    "def extract_title(text):\n",
    "    if isinstance(text, str):\n",
    "        lines = text.split('\\n')\n",
    "        for line in lines[:10]:\n",
    "            if line.lower().startswith('title'):\n",
    "                return line\n",
    "        return None\n",
    "    else:\n",
    "        return None"
   ]
  },
  {
   "cell_type": "code",
   "execution_count": 22,
   "metadata": {},
   "outputs": [],
   "source": [
    "def wordcount(text):\n",
    "    if isinstance(text, str):\n",
    "        return len(text.split())\n",
    "    return 0"
   ]
  },
  {
   "cell_type": "code",
   "execution_count": 23,
   "metadata": {},
   "outputs": [],
   "source": [
    "df['wordcount'] = df['text'].apply(wordcount)"
   ]
  },
  {
   "cell_type": "code",
   "execution_count": 24,
   "metadata": {},
   "outputs": [],
   "source": [
    "df['title'] = df['text'].apply(extract_title)"
   ]
  },
  {
   "cell_type": "code",
   "execution_count": 25,
   "metadata": {},
   "outputs": [],
   "source": [
    "def label_duplicates(df, col_to_check):\n",
    "    df['is_duplicate'] = df.duplicated(col_to_check, keep=False)\n",
    "    df['duplicate_group'] = np.where(df['is_duplicate'], df[col_to_check], np.nan)\n",
    "    df['duplicate_group'] = df['duplicate_group'].factorize(na_sentinel=-1)[0]\n",
    "    df['duplicate_group'] = np.where(df['duplicate_group'] == -1, np.nan, df['duplicate_group'])\n",
    "    return df\n",
    "\n",
    "# Call the function on your DataFrame\n",
    "df = label_duplicates(df, 'text')"
   ]
  },
  {
   "cell_type": "code",
   "execution_count": 26,
   "metadata": {},
   "outputs": [
    {
     "data": {
      "text/plain": [
       "<AxesSubplot: ylabel='Frequency'>"
      ]
     },
     "execution_count": 26,
     "metadata": {},
     "output_type": "execute_result"
    },
    {
     "data": {
      "image/png": "[encoded data removed]",
      "text/plain": [
       "<Figure size 640x480 with 1 Axes>"
      ]
     },
     "metadata": {},
     "output_type": "display_data"
    }
   ],
   "source": [
    "df.wordcount.plot(kind='hist', bins=50)"
   ]
  },
  {
   "cell_type": "code",
   "execution_count": 28,
   "metadata": {},
   "outputs": [],
   "source": [
    "# TODO:\n",
    "# Landscape - gives backwards text\n",
    "# OCR mixed - pdfs with mix of pdf text and scanned documents\n"
   ]
  },
  {
   "cell_type": "code",
   "execution_count": 27,
   "metadata": {},
   "outputs": [
    {
     "data": {
      "text/plain": [
       "'no\\nsucof\\not\\nspuorg\\ndna\\nseussi\\nyeK\\n/\\nnoitacifitsuJ\\necneffo\\ntnemssessA\\ntcapmI\\noN\\nderiuqeR\\neciton\\nlluF seY\\nytlanep\\not\\nesnopseR gnineercS snoitseuQ oN\\ndexif\\nseY\\na\\ngnivird\\nsselerac\\ngnineercS\\ngnikam\\ntnemssessA\\nredisnoc\\nsnoitseuQ\\ntcapmI\\not\\nnoitatlusnoc\\ngnineercS\\nyrotalugeR\\nRegulatory\\nAgnivird fo gniniart yeht osla dna ecilop\\nstruoc ycneiciffe gnireviled sreciffo truoc ot yam dettimbus fo noitanibmoc\\necnerreted\\nyehT evom etagitsevni reffo tnemecrofne\\nnoitucesorp sa\\n– eht\\nsselerac ssecorp eht ecruoser laidemer gnidneffo gnidnetta no ecneffo\\n.noitpo ecilop nedrub yna na .eciton taht\\nhguorht eht fo ,egatoof hguorht\\n.sredneffo\\necrofne tnerruc dna dna evorpmi wolla yaw level lasopsid fo dohtem taht dna eht woh ytlanep ot ,sredir ytlanep era ycilop fo ni dna\\ndesingocer redisnoc level\\ndetucesorp citarcuaerub struoc emit gnicuder mac-hsad ruoivaheb stsoc\\neht dna wol krowrepap dexif\\not ot level evitceffe elpmis fo dna dexif siht eht\\nstsixe tuB era emiger rof artxe\\neht wol tnuoma ot a stsirotom fo evorpmi\\nydaerla .dnalerI era ylrevo ,ecilop sevitcejbo tnemecrofne rof a era ecitsuj dna dna gnitelpmoc ylsuoenatlumis .secivres si evitcejbo gnivird esu gnivird a ro gniniart stceffe laitnatsbus\\not\\nsesac dedivorp seitlanep etanoitroporp tfiws eht sselerac ot\\nnoitalsigeL nrehtroN si rof ycilop kciuq ecuder noitucesorp ecilop etavirp roop dednetni elba\\nlla – evisnetni .secivres a rehtruf laidemer\\nerehw metsys eb dexiF a reffo edivorp dneps elihw ekam elbane morf ecrofne eb tuohtiw\\nehT eht dna ehT lliw\\nni ot A\\nX\\nX\\not\\n?sessenisub\\nylekil\\nycilop\\neht no\\ntcapmi\\not\\ntnemdnema\\ntceridni\\nro\\nro\\ntcerid\\nycilop\\na\\neht\\nevah\\nsIseicnega yna\\nsselerac\\nymonoce\\neb eb gnivird\\nfo ro\\necitsuj\\ndluow dluow\\necnelaverp stsoc\\necitsuj\\ngnitucesorp\\nsselerac\\nycilop lanimirc ycilop yna laicos\\nlanimirc esopmi .rotces\\neht eht\\nsiht siht gnitucesorp\\nniam\\necuder ni ,seitirahc\\nyb devlovni yb niam ton yratnulov\\ndetceffa eht detceffa\\nlliw\\ngniniart dna eht\\nni ,ssenisub\\nlasoporp\\nspuorg sredir yltnerruc ..secneffo spuorg dna devlovni eht\\n.gnivird\\nlaidemer sredir/srevird ro\\ndna sesirpretne\\nniam seicnega .evoba niam yltnerruc .secneffo ycilop no\\nsselerac\\nsrevird gnivird sgnivas\\nhtiw\\nehT ehT ehT\\nsA\\nX X\\nX\\n/\\not yratnulov\\nylekil\\nycilop\\neht .rotces\\neht no\\ntcapmi ymonoce\\not\\ntnemdnema\\ntceridni laicos\\n1?rotces\\neht\\nro ro dna\\nNOISULCNOC\\ntcerid\\nycilop ytinummoc seitirahc\\na\\neht\\nevah\\nsedulcnI\\nsI\\n:SETON\\nsihT\\n1tcapmi\\nyrotaluger\\nlluf\\na\\nrof\\ntuo\\ndeneercs\\nneeb\\nsah\\ndna\\ntcapmi\\nyrotaluger\\nrof\\ndeneercs noisiviD\\nlevarT\\nneeb\\nsah elbisseccA 1202\\nttirratS\\nycilop\\nrebotcO\\ndesoporp dlanoD &\\nefaS\\n92\\neht\\n:noisiviD/ycnegA\\ntaht\\ntnemesrodnE\\nmrifnoc\\n.tnemssessa\\n:dengiS\\n:etaD\\nnac\\nI'"
      ]
     },
     "execution_count": 27,
     "metadata": {},
     "output_type": "execute_result"
    }
   ],
   "source": [
    "df.loc[18].text"
   ]
  },
  {
   "cell_type": "code",
   "execution_count": 29,
   "metadata": {},
   "outputs": [
    {
     "data": {
      "text/plain": [
       "uk      3920\n",
       "nisr     103\n",
       "Name: origin, dtype: int64"
      ]
     },
     "execution_count": 29,
     "metadata": {},
     "output_type": "execute_result"
    }
   ],
   "source": [
    "df.origin.value_counts()"
   ]
  },
  {
   "cell_type": "code",
   "execution_count": 30,
   "metadata": {},
   "outputs": [
    {
     "data": {
      "text/plain": [
       "pdfplumber                      3796\n",
       "OCR                              219\n",
       "PDFSyntaxError                     7\n",
       "Possible error or blank page       1\n",
       "Name: method, dtype: int64"
      ]
     },
     "execution_count": 30,
     "metadata": {},
     "output_type": "execute_result"
    }
   ],
   "source": [
    "df.method.value_counts()"
   ]
  },
  {
   "cell_type": "code",
   "execution_count": 33,
   "metadata": {},
   "outputs": [
    {
     "data": {
      "text/html": [
       "<div>\n",
       "<style scoped>\n",
       "    .dataframe tbody tr th:only-of-type {\n",
       "        vertical-align: middle;\n",
       "    }\n",
       "\n",
       "    .dataframe tbody tr th {\n",
       "        vertical-align: top;\n",
       "    }\n",
       "\n",
       "    .dataframe thead th {\n",
       "        text-align: right;\n",
       "    }\n",
       "</style>\n",
       "<table border=\"1\" class=\"dataframe\">\n",
       "  <thead>\n",
       "    <tr style=\"text-align: right;\">\n",
       "      <th></th>\n",
       "      <th>article name</th>\n",
       "      <th>reference</th>\n",
       "      <th>text</th>\n",
       "      <th>method</th>\n",
       "      <th>origin</th>\n",
       "      <th>page number</th>\n",
       "      <th>wordcount</th>\n",
       "      <th>title</th>\n",
       "      <th>is_duplicate</th>\n",
       "      <th>duplicate_group</th>\n",
       "    </tr>\n",
       "  </thead>\n",
       "  <tbody>\n",
       "    <tr>\n",
       "      <th>0</th>\n",
       "      <td>The Motor Vehicles (Driving Licences) (Amendme...</td>\n",
       "      <td>ukia_20230067_en.pdf</td>\n",
       "      <td>Title: Extension to the period of time during ...</td>\n",
       "      <td>pdfplumber</td>\n",
       "      <td>uk</td>\n",
       "      <td>1</td>\n",
       "      <td>16797</td>\n",
       "      <td>Title: Extension to the period of time during ...</td>\n",
       "      <td>False</td>\n",
       "      <td>NaN</td>\n",
       "    </tr>\n",
       "    <tr>\n",
       "      <th>1</th>\n",
       "      <td>Impact Assessment of The Industrial Training L...</td>\n",
       "      <td>ukia_20230066_en.pdf</td>\n",
       "      <td>Impact Assessment of\\nThe Industrial Training\\...</td>\n",
       "      <td>pdfplumber</td>\n",
       "      <td>uk</td>\n",
       "      <td>1</td>\n",
       "      <td>7341</td>\n",
       "      <td>None</td>\n",
       "      <td>False</td>\n",
       "      <td>NaN</td>\n",
       "    </tr>\n",
       "    <tr>\n",
       "      <th>2</th>\n",
       "      <td>The Republic of Belarus (Sanctions) (EU Exit) ...</td>\n",
       "      <td>ukia_20230065_en.pdf</td>\n",
       "      <td>OFFICIAL\\nTitle:The Republic of Belarus (Sanct...</td>\n",
       "      <td>pdfplumber</td>\n",
       "      <td>uk</td>\n",
       "      <td>1</td>\n",
       "      <td>17258</td>\n",
       "      <td>Title:The Republic of Belarus (Sanctions) (EU ...</td>\n",
       "      <td>False</td>\n",
       "      <td>NaN</td>\n",
       "    </tr>\n",
       "    <tr>\n",
       "      <th>3</th>\n",
       "      <td>The Pensions Dashboards (Amendment) Regulation...</td>\n",
       "      <td>ukia_20230064_en.pdf</td>\n",
       "      <td>Title: Pensions Dashboards Impact Assessment (...</td>\n",
       "      <td>pdfplumber</td>\n",
       "      <td>uk</td>\n",
       "      <td>1</td>\n",
       "      <td>16761</td>\n",
       "      <td>Title: Pensions Dashboards Impact Assessment (...</td>\n",
       "      <td>False</td>\n",
       "      <td>NaN</td>\n",
       "    </tr>\n",
       "    <tr>\n",
       "      <th>4</th>\n",
       "      <td>The Immigration and Nationality (Fees) (Amendm...</td>\n",
       "      <td>ukia_20230063_en.pdf</td>\n",
       "      <td>Impact Assessment, The Home Office\\nTitle: Imp...</td>\n",
       "      <td>pdfplumber</td>\n",
       "      <td>uk</td>\n",
       "      <td>1</td>\n",
       "      <td>16721</td>\n",
       "      <td>Title: Impact assessment for Immigration and D...</td>\n",
       "      <td>False</td>\n",
       "      <td>NaN</td>\n",
       "    </tr>\n",
       "    <tr>\n",
       "      <th>...</th>\n",
       "      <td>...</td>\n",
       "      <td>...</td>\n",
       "      <td>...</td>\n",
       "      <td>...</td>\n",
       "      <td>...</td>\n",
       "      <td>...</td>\n",
       "      <td>...</td>\n",
       "      <td>...</td>\n",
       "      <td>...</td>\n",
       "      <td>...</td>\n",
       "    </tr>\n",
       "    <tr>\n",
       "      <th>4018</th>\n",
       "      <td>Impact Assessment of widening the scope of aut...</td>\n",
       "      <td>ukia_20070003_en.pdf</td>\n",
       "      <td>Summary: Intervention &amp; Options\\nDepartment /A...</td>\n",
       "      <td>pdfplumber</td>\n",
       "      <td>uk</td>\n",
       "      <td>201</td>\n",
       "      <td>4347</td>\n",
       "      <td>None</td>\n",
       "      <td>False</td>\n",
       "      <td>NaN</td>\n",
       "    </tr>\n",
       "    <tr>\n",
       "      <th>4019</th>\n",
       "      <td>Impact Assessment of the decision to allow spe...</td>\n",
       "      <td>ukia_20070002_en.pdf</td>\n",
       "      <td>Summary: Intervention &amp; Options\\nDepartment /A...</td>\n",
       "      <td>pdfplumber</td>\n",
       "      <td>uk</td>\n",
       "      <td>201</td>\n",
       "      <td>2094</td>\n",
       "      <td>None</td>\n",
       "      <td>False</td>\n",
       "      <td>NaN</td>\n",
       "    </tr>\n",
       "    <tr>\n",
       "      <th>4020</th>\n",
       "      <td>Impact Assessment of THE MEDICAL DEVICES ( FEE...</td>\n",
       "      <td>ukia_20070001_en.pdf</td>\n",
       "      <td>Summary: Intervention &amp; Options\\n\\nDepartment ...</td>\n",
       "      <td>OCR</td>\n",
       "      <td>uk</td>\n",
       "      <td>202</td>\n",
       "      <td>2401</td>\n",
       "      <td>None</td>\n",
       "      <td>False</td>\n",
       "      <td>NaN</td>\n",
       "    </tr>\n",
       "    <tr>\n",
       "      <th>4021</th>\n",
       "      <td>Regulatory Impact Assessment (RIA): Authorised...</td>\n",
       "      <td>ukia_20060002_en.pdf</td>\n",
       "      <td>Regulatory Impact Assessment (RIA):\\nAuthorise...</td>\n",
       "      <td>pdfplumber</td>\n",
       "      <td>uk</td>\n",
       "      <td>202</td>\n",
       "      <td>1734</td>\n",
       "      <td>Title of proposal</td>\n",
       "      <td>False</td>\n",
       "      <td>NaN</td>\n",
       "    </tr>\n",
       "    <tr>\n",
       "      <th>4022</th>\n",
       "      <td>The Competition Act 1998 (Public Transport Tic...</td>\n",
       "      <td>ukia_20050001_en.pdf</td>\n",
       "      <td>Resulatory Impact Assessment\\n\\nThe Competitio...</td>\n",
       "      <td>OCR</td>\n",
       "      <td>uk</td>\n",
       "      <td>202</td>\n",
       "      <td>1317</td>\n",
       "      <td>None</td>\n",
       "      <td>False</td>\n",
       "      <td>NaN</td>\n",
       "    </tr>\n",
       "  </tbody>\n",
       "</table>\n",
       "<p>4023 rows × 10 columns</p>\n",
       "</div>"
      ],
      "text/plain": [
       "                                           article name             reference  \\\n",
       "0     The Motor Vehicles (Driving Licences) (Amendme...  ukia_20230067_en.pdf   \n",
       "1     Impact Assessment of The Industrial Training L...  ukia_20230066_en.pdf   \n",
       "2     The Republic of Belarus (Sanctions) (EU Exit) ...  ukia_20230065_en.pdf   \n",
       "3     The Pensions Dashboards (Amendment) Regulation...  ukia_20230064_en.pdf   \n",
       "4     The Immigration and Nationality (Fees) (Amendm...  ukia_20230063_en.pdf   \n",
       "...                                                 ...                   ...   \n",
       "4018  Impact Assessment of widening the scope of aut...  ukia_20070003_en.pdf   \n",
       "4019  Impact Assessment of the decision to allow spe...  ukia_20070002_en.pdf   \n",
       "4020  Impact Assessment of THE MEDICAL DEVICES ( FEE...  ukia_20070001_en.pdf   \n",
       "4021  Regulatory Impact Assessment (RIA): Authorised...  ukia_20060002_en.pdf   \n",
       "4022  The Competition Act 1998 (Public Transport Tic...  ukia_20050001_en.pdf   \n",
       "\n",
       "                                                   text      method origin  \\\n",
       "0     Title: Extension to the period of time during ...  pdfplumber     uk   \n",
       "1     Impact Assessment of\\nThe Industrial Training\\...  pdfplumber     uk   \n",
       "2     OFFICIAL\\nTitle:The Republic of Belarus (Sanct...  pdfplumber     uk   \n",
       "3     Title: Pensions Dashboards Impact Assessment (...  pdfplumber     uk   \n",
       "4     Impact Assessment, The Home Office\\nTitle: Imp...  pdfplumber     uk   \n",
       "...                                                 ...         ...    ...   \n",
       "4018  Summary: Intervention & Options\\nDepartment /A...  pdfplumber     uk   \n",
       "4019  Summary: Intervention & Options\\nDepartment /A...  pdfplumber     uk   \n",
       "4020  Summary: Intervention & Options\\n\\nDepartment ...         OCR     uk   \n",
       "4021  Regulatory Impact Assessment (RIA):\\nAuthorise...  pdfplumber     uk   \n",
       "4022  Resulatory Impact Assessment\\n\\nThe Competitio...         OCR     uk   \n",
       "\n",
       "      page number  wordcount  \\\n",
       "0               1      16797   \n",
       "1               1       7341   \n",
       "2               1      17258   \n",
       "3               1      16761   \n",
       "4               1      16721   \n",
       "...           ...        ...   \n",
       "4018          201       4347   \n",
       "4019          201       2094   \n",
       "4020          202       2401   \n",
       "4021          202       1734   \n",
       "4022          202       1317   \n",
       "\n",
       "                                                  title  is_duplicate  \\\n",
       "0     Title: Extension to the period of time during ...         False   \n",
       "1                                                  None         False   \n",
       "2     Title:The Republic of Belarus (Sanctions) (EU ...         False   \n",
       "3     Title: Pensions Dashboards Impact Assessment (...         False   \n",
       "4     Title: Impact assessment for Immigration and D...         False   \n",
       "...                                                 ...           ...   \n",
       "4018                                               None         False   \n",
       "4019                                               None         False   \n",
       "4020                                               None         False   \n",
       "4021                                  Title of proposal         False   \n",
       "4022                                               None         False   \n",
       "\n",
       "      duplicate_group  \n",
       "0                 NaN  \n",
       "1                 NaN  \n",
       "2                 NaN  \n",
       "3                 NaN  \n",
       "4                 NaN  \n",
       "...               ...  \n",
       "4018              NaN  \n",
       "4019              NaN  \n",
       "4020              NaN  \n",
       "4021              NaN  \n",
       "4022              NaN  \n",
       "\n",
       "[4023 rows x 10 columns]"
      ]
     },
     "execution_count": 33,
     "metadata": {},
     "output_type": "execute_result"
    }
   ],
   "source": [
    "df"
   ]
  },
  {
   "cell_type": "code",
   "execution_count": 34,
   "metadata": {},
   "outputs": [],
   "source": [
    "no_duplicates = df.drop_duplicates('text')"
   ]
  },
  {
   "cell_type": "code",
   "execution_count": 39,
   "metadata": {},
   "outputs": [
    {
     "data": {
      "text/plain": [
       "3149"
      ]
     },
     "execution_count": 39,
     "metadata": {},
     "output_type": "execute_result"
    }
   ],
   "source": [
    "len(no_duplicates)"
   ]
  },
  {
   "cell_type": "code",
   "execution_count": 38,
   "metadata": {},
   "outputs": [
    {
     "data": {
      "text/plain": [
       "2620"
      ]
     },
     "execution_count": 38,
     "metadata": {},
     "output_type": "execute_result"
    }
   ],
   "source": [
    "no_duplicates.duplicate_group.isnull().sum()"
   ]
  },
  {
   "cell_type": "code",
   "execution_count": 37,
   "metadata": {},
   "outputs": [
    {
     "data": {
      "text/plain": [
       "0.0      1\n",
       "348.0    1\n",
       "362.0    1\n",
       "361.0    1\n",
       "360.0    1\n",
       "        ..\n",
       "171.0    1\n",
       "170.0    1\n",
       "169.0    1\n",
       "168.0    1\n",
       "528.0    1\n",
       "Name: duplicate_group, Length: 529, dtype: int64"
      ]
     },
     "execution_count": 37,
     "metadata": {},
     "output_type": "execute_result"
    }
   ],
   "source": [
    "no_duplicates.duplicate_group.value_counts()"
   ]
  },
  {
   "cell_type": "code",
   "execution_count": 32,
   "metadata": {},
   "outputs": [
    {
     "data": {
      "text/html": [
       "<div>\n",
       "<style scoped>\n",
       "    .dataframe tbody tr th:only-of-type {\n",
       "        vertical-align: middle;\n",
       "    }\n",
       "\n",
       "    .dataframe tbody tr th {\n",
       "        vertical-align: top;\n",
       "    }\n",
       "\n",
       "    .dataframe thead th {\n",
       "        text-align: right;\n",
       "    }\n",
       "</style>\n",
       "<table border=\"1\" class=\"dataframe\">\n",
       "  <thead>\n",
       "    <tr style=\"text-align: right;\">\n",
       "      <th></th>\n",
       "      <th>article name</th>\n",
       "      <th>reference</th>\n",
       "      <th>text</th>\n",
       "      <th>method</th>\n",
       "      <th>origin</th>\n",
       "      <th>page number</th>\n",
       "      <th>wordcount</th>\n",
       "      <th>title</th>\n",
       "      <th>is_duplicate</th>\n",
       "      <th>duplicate_group</th>\n",
       "    </tr>\n",
       "  </thead>\n",
       "  <tbody>\n",
       "    <tr>\n",
       "      <th>10</th>\n",
       "      <td>The Energy Bills Discount Scheme (Northern Ire...</td>\n",
       "      <td>ukia_20230057_en.pdf</td>\n",
       "      <td>Title: Energy Bills Discount Scheme (EBDS) Imp...</td>\n",
       "      <td>pdfplumber</td>\n",
       "      <td>uk</td>\n",
       "      <td>1</td>\n",
       "      <td>9255</td>\n",
       "      <td>Title: Energy Bills Discount Scheme (EBDS) Imp...</td>\n",
       "      <td>True</td>\n",
       "      <td>0.0</td>\n",
       "    </tr>\n",
       "    <tr>\n",
       "      <th>11</th>\n",
       "      <td>The Energy Bills Discount Scheme Pass-through ...</td>\n",
       "      <td>ukia_20230056_en.pdf</td>\n",
       "      <td>Title: Energy Bills Discount Scheme (EBDS) Imp...</td>\n",
       "      <td>pdfplumber</td>\n",
       "      <td>uk</td>\n",
       "      <td>1</td>\n",
       "      <td>9255</td>\n",
       "      <td>Title: Energy Bills Discount Scheme (EBDS) Imp...</td>\n",
       "      <td>True</td>\n",
       "      <td>0.0</td>\n",
       "    </tr>\n",
       "    <tr>\n",
       "      <th>12</th>\n",
       "      <td>The Energy Bills Discount Scheme Pass-through ...</td>\n",
       "      <td>ukia_20230055_en.pdf</td>\n",
       "      <td>Title: Energy Bills Discount Scheme (EBDS) Imp...</td>\n",
       "      <td>pdfplumber</td>\n",
       "      <td>uk</td>\n",
       "      <td>1</td>\n",
       "      <td>9255</td>\n",
       "      <td>Title: Energy Bills Discount Scheme (EBDS) Imp...</td>\n",
       "      <td>True</td>\n",
       "      <td>0.0</td>\n",
       "    </tr>\n",
       "    <tr>\n",
       "      <th>13</th>\n",
       "      <td>The Energy Bills Discount Scheme (Non-Standard...</td>\n",
       "      <td>ukia_20230054_en.pdf</td>\n",
       "      <td>Title: Energy Bills Discount Scheme (EBDS) Imp...</td>\n",
       "      <td>pdfplumber</td>\n",
       "      <td>uk</td>\n",
       "      <td>1</td>\n",
       "      <td>9255</td>\n",
       "      <td>Title: Energy Bills Discount Scheme (EBDS) Imp...</td>\n",
       "      <td>True</td>\n",
       "      <td>0.0</td>\n",
       "    </tr>\n",
       "    <tr>\n",
       "      <th>14</th>\n",
       "      <td>The Energy Bills Discount Scheme Regulations 2023</td>\n",
       "      <td>ukia_20230053_en.pdf</td>\n",
       "      <td>Title: Energy Bills Discount Scheme (EBDS) Imp...</td>\n",
       "      <td>pdfplumber</td>\n",
       "      <td>uk</td>\n",
       "      <td>1</td>\n",
       "      <td>9255</td>\n",
       "      <td>Title: Energy Bills Discount Scheme (EBDS) Imp...</td>\n",
       "      <td>True</td>\n",
       "      <td>0.0</td>\n",
       "    </tr>\n",
       "    <tr>\n",
       "      <th>...</th>\n",
       "      <td>...</td>\n",
       "      <td>...</td>\n",
       "      <td>...</td>\n",
       "      <td>...</td>\n",
       "      <td>...</td>\n",
       "      <td>...</td>\n",
       "      <td>...</td>\n",
       "      <td>...</td>\n",
       "      <td>...</td>\n",
       "      <td>...</td>\n",
       "    </tr>\n",
       "    <tr>\n",
       "      <th>4005</th>\n",
       "      <td>Planning Bill: Impact Assessment of proposal t...</td>\n",
       "      <td>ukia_20070016_en.pdf</td>\n",
       "      <td>Planning Bill – Impact Assessment\\nwww.communi...</td>\n",
       "      <td>pdfplumber</td>\n",
       "      <td>uk</td>\n",
       "      <td>201</td>\n",
       "      <td>57098</td>\n",
       "      <td>None</td>\n",
       "      <td>True</td>\n",
       "      <td>528.0</td>\n",
       "    </tr>\n",
       "    <tr>\n",
       "      <th>4006</th>\n",
       "      <td>Planning Bill: Impact Assessment of establishi...</td>\n",
       "      <td>ukia_20070015_en.pdf</td>\n",
       "      <td>Planning Bill – Impact Assessment\\nwww.communi...</td>\n",
       "      <td>pdfplumber</td>\n",
       "      <td>uk</td>\n",
       "      <td>201</td>\n",
       "      <td>57098</td>\n",
       "      <td>None</td>\n",
       "      <td>True</td>\n",
       "      <td>528.0</td>\n",
       "    </tr>\n",
       "    <tr>\n",
       "      <th>4008</th>\n",
       "      <td>Planning Bill: Impact Assessment of amending s...</td>\n",
       "      <td>ukia_20070013_en.pdf</td>\n",
       "      <td>Planning Bill – Impact Assessment\\nwww.communi...</td>\n",
       "      <td>pdfplumber</td>\n",
       "      <td>uk</td>\n",
       "      <td>201</td>\n",
       "      <td>57098</td>\n",
       "      <td>None</td>\n",
       "      <td>True</td>\n",
       "      <td>528.0</td>\n",
       "    </tr>\n",
       "    <tr>\n",
       "      <th>4014</th>\n",
       "      <td>Housing and Regeneration Bill: Impact Assessme...</td>\n",
       "      <td>ukia_20070007_en.pdf</td>\n",
       "      <td>Housing and Regeneration Bill – Impact Assessm...</td>\n",
       "      <td>pdfplumber</td>\n",
       "      <td>uk</td>\n",
       "      <td>201</td>\n",
       "      <td>86994</td>\n",
       "      <td>None</td>\n",
       "      <td>True</td>\n",
       "      <td>525.0</td>\n",
       "    </tr>\n",
       "    <tr>\n",
       "      <th>4016</th>\n",
       "      <td>Planning Act 2008 - Town and Country Planning:...</td>\n",
       "      <td>ukia_20070005_en.pdf</td>\n",
       "      <td>Impact Assessment\\nPlanning Act 2008 – Town an...</td>\n",
       "      <td>pdfplumber</td>\n",
       "      <td>uk</td>\n",
       "      <td>201</td>\n",
       "      <td>7997</td>\n",
       "      <td>None</td>\n",
       "      <td>True</td>\n",
       "      <td>517.0</td>\n",
       "    </tr>\n",
       "  </tbody>\n",
       "</table>\n",
       "<p>1404 rows × 10 columns</p>\n",
       "</div>"
      ],
      "text/plain": [
       "                                           article name             reference  \\\n",
       "10    The Energy Bills Discount Scheme (Northern Ire...  ukia_20230057_en.pdf   \n",
       "11    The Energy Bills Discount Scheme Pass-through ...  ukia_20230056_en.pdf   \n",
       "12    The Energy Bills Discount Scheme Pass-through ...  ukia_20230055_en.pdf   \n",
       "13    The Energy Bills Discount Scheme (Non-Standard...  ukia_20230054_en.pdf   \n",
       "14    The Energy Bills Discount Scheme Regulations 2023  ukia_20230053_en.pdf   \n",
       "...                                                 ...                   ...   \n",
       "4005  Planning Bill: Impact Assessment of proposal t...  ukia_20070016_en.pdf   \n",
       "4006  Planning Bill: Impact Assessment of establishi...  ukia_20070015_en.pdf   \n",
       "4008  Planning Bill: Impact Assessment of amending s...  ukia_20070013_en.pdf   \n",
       "4014  Housing and Regeneration Bill: Impact Assessme...  ukia_20070007_en.pdf   \n",
       "4016  Planning Act 2008 - Town and Country Planning:...  ukia_20070005_en.pdf   \n",
       "\n",
       "                                                   text      method origin  \\\n",
       "10    Title: Energy Bills Discount Scheme (EBDS) Imp...  pdfplumber     uk   \n",
       "11    Title: Energy Bills Discount Scheme (EBDS) Imp...  pdfplumber     uk   \n",
       "12    Title: Energy Bills Discount Scheme (EBDS) Imp...  pdfplumber     uk   \n",
       "13    Title: Energy Bills Discount Scheme (EBDS) Imp...  pdfplumber     uk   \n",
       "14    Title: Energy Bills Discount Scheme (EBDS) Imp...  pdfplumber     uk   \n",
       "...                                                 ...         ...    ...   \n",
       "4005  Planning Bill – Impact Assessment\\nwww.communi...  pdfplumber     uk   \n",
       "4006  Planning Bill – Impact Assessment\\nwww.communi...  pdfplumber     uk   \n",
       "4008  Planning Bill – Impact Assessment\\nwww.communi...  pdfplumber     uk   \n",
       "4014  Housing and Regeneration Bill – Impact Assessm...  pdfplumber     uk   \n",
       "4016  Impact Assessment\\nPlanning Act 2008 – Town an...  pdfplumber     uk   \n",
       "\n",
       "      page number  wordcount  \\\n",
       "10              1       9255   \n",
       "11              1       9255   \n",
       "12              1       9255   \n",
       "13              1       9255   \n",
       "14              1       9255   \n",
       "...           ...        ...   \n",
       "4005          201      57098   \n",
       "4006          201      57098   \n",
       "4008          201      57098   \n",
       "4014          201      86994   \n",
       "4016          201       7997   \n",
       "\n",
       "                                                  title  is_duplicate  \\\n",
       "10    Title: Energy Bills Discount Scheme (EBDS) Imp...          True   \n",
       "11    Title: Energy Bills Discount Scheme (EBDS) Imp...          True   \n",
       "12    Title: Energy Bills Discount Scheme (EBDS) Imp...          True   \n",
       "13    Title: Energy Bills Discount Scheme (EBDS) Imp...          True   \n",
       "14    Title: Energy Bills Discount Scheme (EBDS) Imp...          True   \n",
       "...                                                 ...           ...   \n",
       "4005                                               None          True   \n",
       "4006                                               None          True   \n",
       "4008                                               None          True   \n",
       "4014                                               None          True   \n",
       "4016                                               None          True   \n",
       "\n",
       "      duplicate_group  \n",
       "10                0.0  \n",
       "11                0.0  \n",
       "12                0.0  \n",
       "13                0.0  \n",
       "14                0.0  \n",
       "...               ...  \n",
       "4005            528.0  \n",
       "4006            528.0  \n",
       "4008            528.0  \n",
       "4014            525.0  \n",
       "4016            517.0  \n",
       "\n",
       "[1404 rows x 10 columns]"
      ]
     },
     "execution_count": 32,
     "metadata": {},
     "output_type": "execute_result"
    }
   ],
   "source": [
    "df[df['text'].duplicated(keep=False)]"
   ]
  },
  {
   "cell_type": "code",
   "execution_count": 16,
   "metadata": {},
   "outputs": [
    {
     "data": {
      "text/plain": [
       "pdfplumber                      3796\n",
       "OCR                              219\n",
       "PDFSyntaxError                     7\n",
       "Possible error or blank page       1\n",
       "Name: method, dtype: int64"
      ]
     },
     "execution_count": 16,
     "metadata": {},
     "output_type": "execute_result"
    }
   ],
   "source": [
    "df['method'].value_counts()"
   ]
  },
  {
   "cell_type": "code",
   "execution_count": 17,
   "metadata": {},
   "outputs": [
    {
     "data": {
      "text/plain": [
       "uk      3920\n",
       "nisr     103\n",
       "Name: origin, dtype: int64"
      ]
     },
     "execution_count": 17,
     "metadata": {},
     "output_type": "execute_result"
    }
   ],
   "source": [
    "df['origin'].value_counts()"
   ]
  },
  {
   "cell_type": "code",
   "execution_count": null,
   "metadata": {},
   "outputs": [],
   "source": []
  }
 ],
 "metadata": {
  "kernelspec": {
   "display_name": "lewagon",
   "language": "python",
   "name": "python3"
  },
  "language_info": {
   "codemirror_mode": {
    "name": "ipython",
    "version": 3
   },
   "file_extension": ".py",
   "mimetype": "text/x-python",
   "name": "python",
   "nbconvert_exporter": "python",
   "pygments_lexer": "ipython3",
   "version": "3.10.6"
  },
  "orig_nbformat": 4
 },
 "nbformat": 4,
 "nbformat_minor": 2
}
